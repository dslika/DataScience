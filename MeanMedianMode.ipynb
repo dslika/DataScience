{
 "cells": [
  {
   "cell_type": "markdown",
   "metadata": {},
   "source": [
    "# 平均値、中央値、モード、およびNumpyの導入"
   ]
  },
  {
   "cell_type": "markdown",
   "metadata": {},
   "source": [
    "## 平均値 vs. 中央値"
   ]
  },
  {
   "cell_type": "markdown",
   "metadata": {},
   "source": [
    "疑似的な収入分布を作りましょう。27000を中央にした正規分布で、標準偏差は15000、データ数は10000とします。（用語については後程解説します。）\n",
    "そして、平均値を計算してみましょう。27000に近くなるはずです。"
   ]
  },
  {
   "cell_type": "code",
   "execution_count": 8,
   "metadata": {},
   "outputs": [
    {
     "data": {
      "text/plain": [
       "27024.710633814837"
      ]
     },
     "execution_count": 8,
     "metadata": {},
     "output_type": "execute_result"
    }
   ],
   "source": [
    "import numpy as np\n",
    "\n",
    "incomes = np.random.normal(27000, 15000, 10000)\n",
    "np.mean(incomes)"
   ]
  },
  {
   "cell_type": "markdown",
   "metadata": {},
   "source": [
    "収入データを50個にセグメント化し、ヒストグラムにプロットすることもできます。"
   ]
  },
  {
   "cell_type": "code",
   "execution_count": 15,
   "metadata": {},
   "outputs": [
    {
     "data": {
      "image/png": "[encoded data removed]",
      "text/plain": [
       "<matplotlib.figure.Figure at 0x108886048>"
      ]
     },
     "metadata": {},
     "output_type": "display_data"
    }
   ],
   "source": [
    "%matplotlib inline\n",
    "import matplotlib.pyplot as plt\n",
    "plt.hist(incomes, 50)\n",
    "plt.show()"
   ]
  },
  {
   "cell_type": "markdown",
   "metadata": {},
   "source": [
    "中央値を計算してみましょう。今回はきれいな分布をしているため、中央値は平均値と同様に27000に近くなります。"
   ]
  },
  {
   "cell_type": "code",
   "execution_count": 16,
   "metadata": {},
   "outputs": [
    {
     "data": {
      "text/plain": [
       "26939.24974040009"
      ]
     },
     "execution_count": 16,
     "metadata": {},
     "output_type": "execute_result"
    }
   ],
   "source": [
    "np.median(incomes)"
   ]
  },
  {
   "cell_type": "markdown",
   "metadata": {},
   "source": [
    "大富豪をデータに混ぜてみましょう。所得格差を実感してみましょう。"
   ]
  },
  {
   "cell_type": "code",
   "execution_count": 17,
   "metadata": {
    "collapsed": true
   },
   "outputs": [],
   "source": [
    "incomes = np.append(incomes, [1000000000])"
   ]
  },
  {
   "cell_type": "markdown",
   "metadata": {},
   "source": [
    "中央値は大きく変わりませんが、平均値は大きく変わります。"
   ]
  },
  {
   "cell_type": "code",
   "execution_count": 18,
   "metadata": {},
   "outputs": [
    {
     "data": {
      "text/plain": [
       "26940.892248807784"
      ]
     },
     "execution_count": 18,
     "metadata": {},
     "output_type": "execute_result"
    }
   ],
   "source": [
    "np.median(incomes)"
   ]
  },
  {
   "cell_type": "code",
   "execution_count": 19,
   "metadata": {},
   "outputs": [
    {
     "data": {
      "text/plain": [
       "127012.00943287155"
      ]
     },
     "execution_count": 19,
     "metadata": {},
     "output_type": "execute_result"
    }
   ],
   "source": [
    "np.mean(incomes)"
   ]
  },
  {
   "cell_type": "markdown",
   "metadata": {},
   "source": [
    "## モード"
   ]
  },
  {
   "cell_type": "markdown",
   "metadata": {},
   "source": [
    "次に、疑似的な年齢のデータを500人分作りましょう。"
   ]
  },
  {
   "cell_type": "code",
   "execution_count": 22,
   "metadata": {},
   "outputs": [
    {
     "data": {
      "text/plain": [
       "array([63, 44, 25, 65, 88, 36, 71, 34, 75, 51, 51, 77, 35, 63, 27, 76, 57,\n",
       "       55, 75, 77, 72, 23, 84, 79, 79, 66, 18, 34, 51, 18, 85, 39, 42, 68,\n",
       "       31, 26, 29, 75, 62, 53, 51, 73, 65, 22, 47, 39, 19, 24, 53, 45, 77,\n",
       "       68, 32, 48, 23, 38, 82, 24, 60, 58, 47, 46, 24, 73, 29, 56, 40, 68,\n",
       "       74, 34, 52, 46, 42, 69, 67, 72, 49, 87, 58, 19, 23, 18, 52, 61, 28,\n",
       "       54, 63, 51, 68, 59, 83, 60, 22, 34, 85, 40, 37, 42, 66, 25, 20, 66,\n",
       "       84, 31, 74, 38, 57, 87, 76, 73, 69, 86, 79, 48, 52, 72, 19, 62, 43,\n",
       "       47, 59, 35, 32, 61, 23, 50, 36, 80, 57, 47, 74, 20, 41, 62, 25, 83,\n",
       "       85, 83, 25, 34, 72, 55, 83, 26, 23, 18, 84, 38, 58, 46, 64, 78, 87,\n",
       "       48, 65, 84, 25, 64, 83, 54, 89, 45, 51, 36, 76, 66, 84, 23, 46, 76,\n",
       "       59, 37, 48, 85, 49, 61, 76, 71, 44, 25, 36, 41, 28, 81, 78, 38, 47,\n",
       "       69, 36, 22, 71, 66, 31, 61, 58, 50, 66, 19, 22, 85, 79, 63, 85, 69,\n",
       "       62, 45, 81, 82, 24, 20, 58, 21, 60, 41, 53, 46, 21, 38, 72, 36, 19,\n",
       "       83, 45, 79, 64, 22, 37, 34, 41, 32, 55, 19, 42, 61, 88, 23, 53, 47,\n",
       "       21, 55, 32, 53, 44, 69, 67, 28, 32, 70, 68, 37, 58, 21, 80, 74, 25,\n",
       "       60, 25, 65, 66, 77, 51, 74, 47, 31, 18, 61, 63, 57, 27, 21, 56, 65,\n",
       "       49, 84, 56, 44, 49, 87, 62, 79, 31, 77, 89, 66, 34, 41, 79, 58, 86,\n",
       "       22, 57, 51, 22, 88, 31, 63, 36, 33, 37, 28, 53, 67, 77, 68, 42, 69,\n",
       "       70, 66, 41, 59, 30, 55, 70, 47, 85, 69, 61, 44, 86, 18, 82, 87, 80,\n",
       "       79, 52, 83, 80, 88, 51, 80, 26, 67, 29, 23, 81, 77, 87, 71, 84, 50,\n",
       "       37, 45, 85, 49, 23, 34, 27, 55, 27, 18, 27, 86, 30, 78, 79, 53, 22,\n",
       "       71, 78, 84, 82, 41, 82, 65, 70, 55, 55, 53, 38, 70, 44, 30, 79, 82,\n",
       "       55, 24, 69, 41, 59, 77, 84, 66, 74, 78, 49, 31, 75, 35, 59, 46, 76,\n",
       "       76, 48, 62, 18, 67, 70, 78, 80, 57, 24, 87, 31, 56, 72, 50, 53, 47,\n",
       "       62, 20, 85, 79, 38, 60, 61, 75, 26, 25, 43, 87, 69, 31, 22, 86, 34,\n",
       "       18, 62, 67, 30, 55, 82, 62, 71, 50, 18, 79, 68, 67, 53, 42, 87, 43,\n",
       "       40, 31, 40, 22, 35, 60, 40, 51, 22, 48, 36, 50, 51, 21, 34, 62, 89,\n",
       "       57, 22, 57, 59, 38, 49, 38, 58, 46, 87, 55, 43, 58, 44, 61, 40, 67,\n",
       "       30, 78, 26, 22, 81, 69, 19, 42, 55, 20, 84, 68, 42, 55, 84, 24, 74,\n",
       "       86, 57, 71, 84, 76, 56, 23])"
      ]
     },
     "execution_count": 22,
     "metadata": {},
     "output_type": "execute_result"
    }
   ],
   "source": [
    "ages = np.random.randint(18, high=90, size=500)\n",
    "ages"
   ]
  },
  {
   "cell_type": "code",
   "execution_count": 23,
   "metadata": {},
   "outputs": [
    {
     "data": {
      "text/plain": [
       "ModeResult(mode=array([22]), count=array([13]))"
      ]
     },
     "execution_count": 23,
     "metadata": {},
     "output_type": "execute_result"
    }
   ],
   "source": [
    "from scipy import stats\n",
    "stats.mode(ages)"
   ]
  },
  {
   "cell_type": "code",
   "execution_count": null,
   "metadata": {
    "collapsed": true
   },
   "outputs": [],
   "source": []
  }
 ],
 "metadata": {
  "kernelspec": {
   "display_name": "Python 3",
   "language": "python",
   "name": "python3"
  },
  "language_info": {
   "codemirror_mode": {
    "name": "ipython",
    "version": 3
   },
   "file_extension": ".py",
   "mimetype": "text/x-python",
   "name": "python",
   "nbconvert_exporter": "python",
   "pygments_lexer": "ipython3",
   "version": "3.6.1"
  }
 },
 "nbformat": 4,
 "nbformat_minor": 1
}
